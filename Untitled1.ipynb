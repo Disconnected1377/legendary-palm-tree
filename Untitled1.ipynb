{
  "nbformat": 4,
  "nbformat_minor": 0,
  "metadata": {
    "colab": {
      "provenance": [],
      "authorship_tag": "ABX9TyPzaa0simBz9vt6csegKSqI",
      "include_colab_link": true
    },
    "kernelspec": {
      "name": "python3",
      "display_name": "Python 3"
    },
    "language_info": {
      "name": "python"
    }
  },
  "cells": [
    {
      "cell_type": "markdown",
      "metadata": {
        "id": "view-in-github",
        "colab_type": "text"
      },
      "source": [
        "<a href=\"https://colab.research.google.com/github/Disconnected1377/legendary-palm-tree/blob/main/Untitled1.ipynb\" target=\"_parent\"><img src=\"https://colab.research.google.com/assets/colab-badge.svg\" alt=\"Open In Colab\"/></a>"
      ]
    },
    {
      "cell_type": "markdown",
      "source": [
        "Python programe for demonstrate the datatype"
      ],
      "metadata": {
        "id": "UxZHJtkewyUR"
      }
    },
    {
      "cell_type": "code",
      "execution_count": 2,
      "metadata": {
        "colab": {
          "base_uri": "https://localhost:8080/"
        },
        "id": "uW4IWX1dwsmy",
        "outputId": "e179b00a-0fcb-4e48-feec-5665baf3ee90"
      },
      "outputs": [
        {
          "output_type": "stream",
          "name": "stdout",
          "text": [
            "50.000003001 is type(a)\n",
            "python is <class 'str'>\n",
            "C is <class 'str'>\n"
          ]
        }
      ],
      "source": [
        "a= 50.000003001\n",
        "b= \"python\"\n",
        "c= \"C\"\n",
        "print(a,\"is\", type(a));\n",
        "print(b,\"is\",type(b));\n",
        "print(c,\"is\",type(c));"
      ]
    },
    {
      "cell_type": "markdown",
      "source": [
        "**Python program to demonstrate numaric operation**"
      ],
      "metadata": {
        "id": "lLbyek68xnJS"
      }
    },
    {
      "cell_type": "code",
      "source": [
        "a=10\n",
        "b=3\n",
        "print(\"a+b=\",a+b);\n",
        "print(\"a-b=\",a-b);\n",
        "print(\"a X b=\",a*b);\n",
        "print(\"a//b= \",a//b); #floor division\n",
        "print(\"a/b=\",a/b);\n",
        "print(\"a expinential b=\", a**b); #not a^b"
      ],
      "metadata": {
        "colab": {
          "base_uri": "https://localhost:8080/"
        },
        "id": "ll0C0u2yxxVB",
        "outputId": "68746921-319d-4e5a-cbcb-f5a637ce797d"
      },
      "execution_count": 4,
      "outputs": [
        {
          "output_type": "stream",
          "name": "stdout",
          "text": [
            "a+b= 13\n",
            "a-b= 7\n",
            "a X b= 30\n",
            "a//b=  3\n",
            "a/b= 3.3333333333333335\n",
            "a expinential b= 1000\n"
          ]
        }
      ]
    },
    {
      "cell_type": "code",
      "source": [
        "num_int=15;\n",
        "f= float(num_int)\n",
        "fi=10.4848\n",
        "i=int(fi)\n",
        "print(num_int, f, fi, i)"
      ],
      "metadata": {
        "colab": {
          "base_uri": "https://localhost:8080/"
        },
        "id": "Hnrv9Hu3yzZy",
        "outputId": "35b1ec0b-10be-4c14-ef9a-3d9d3914a725"
      },
      "execution_count": 5,
      "outputs": [
        {
          "output_type": "stream",
          "name": "stdout",
          "text": [
            "15 15.0 10.4848 10\n"
          ]
        }
      ]
    },
    {
      "cell_type": "code",
      "source": [
        "z= 5+6j\n",
        "print(type(z))"
      ],
      "metadata": {
        "colab": {
          "base_uri": "https://localhost:8080/"
        },
        "id": "IGWCo3Ltzejk",
        "outputId": "5fc550a8-a49f-4add-e4f3-781bd4ff26c7"
      },
      "execution_count": 8,
      "outputs": [
        {
          "output_type": "stream",
          "name": "stdout",
          "text": [
            "<class 'complex'>\n"
          ]
        }
      ]
    },
    {
      "cell_type": "code",
      "source": [
        "l= complex(5,6)\n",
        "lf=complex(7.001,8.034)\n",
        "ni=float(l.real)\n",
        "nf=l.imag\n",
        "lfi=int(lf.real)\n",
        "lff=lf.imag\n",
        "print(l,lf,ni,nf,lfi,lff)"
      ],
      "metadata": {
        "colab": {
          "base_uri": "https://localhost:8080/"
        },
        "id": "B7WLZ2vEzulb",
        "outputId": "03489bff-1018-40d1-e92e-ca623f11794b"
      },
      "execution_count": 9,
      "outputs": [
        {
          "output_type": "stream",
          "name": "stdout",
          "text": [
            "(5+6j) (7.001+8.034j) 5.0 6.0 7 8.034\n"
          ]
        }
      ]
    },
    {
      "cell_type": "markdown",
      "source": [
        "**programe to access and slice a string**\n",
        "[!] space in string will be counted as 1\n",
        "[!] string out of index error can be generated due to accessing the greater index from the maximum number of index present in string. *italicized text*\n",
        "\n",
        "\n"
      ],
      "metadata": {
        "id": "TjrKCIvk1NDo"
      }
    },
    {
      "cell_type": "code",
      "source": [
        "t=\"python is fun\"\n",
        "print(t[0])\n",
        "print(t[-1])\n",
        "print(t[2:6])\n",
        "print(t[:7])\n",
        "print(t[4:])"
      ],
      "metadata": {
        "colab": {
          "base_uri": "https://localhost:8080/"
        },
        "id": "pEui4EsS0xWP",
        "outputId": "a2d2f887-4953-4d3e-8e89-0974a3317623"
      },
      "execution_count": 12,
      "outputs": [
        {
          "output_type": "stream",
          "name": "stdout",
          "text": [
            "p\n",
            "n\n",
            "thon\n",
            "python \n",
            "on is fun\n"
          ]
        }
      ]
    },
    {
      "cell_type": "code",
      "source": [
        "str1=\"hello\"\n",
        "str2=\"world\"\n",
        "concatenated_str=str1+\"  \"+ str2\n",
        "print(concatenated_str) #concatenation of string"
      ],
      "metadata": {
        "colab": {
          "base_uri": "https://localhost:8080/"
        },
        "id": "edR2M1c12jCt",
        "outputId": "f461e856-f2a6-4b9d-9987-5be320733aca"
      },
      "execution_count": 13,
      "outputs": [
        {
          "output_type": "stream",
          "name": "stdout",
          "text": [
            "hello  world\n"
          ]
        }
      ]
    },
    {
      "cell_type": "code",
      "source": [
        "v= \"hi\"\n",
        "print(v*3) #repeate the string"
      ],
      "metadata": {
        "colab": {
          "base_uri": "https://localhost:8080/"
        },
        "id": "Bbmx217X28gp",
        "outputId": "bd124341-6b0f-4d75-f513-c49b7b052a32"
      },
      "execution_count": 14,
      "outputs": [
        {
          "output_type": "stream",
          "name": "stdout",
          "text": [
            "hihihi\n"
          ]
        }
      ]
    },
    {
      "cell_type": "markdown",
      "source": [
        "String Slicing"
      ],
      "metadata": {
        "id": "Katd1YK43QW8"
      }
    },
    {
      "cell_type": "code",
      "source": [
        "str1=\"Python Programming\"\n",
        "print(\"First five characters: \",str1[:5])\n",
        "print(\"Last five characters: \",str1[-5:])\n",
        "print(str1[2:15:3]) # the 3 charaters wiil be skiped"
      ],
      "metadata": {
        "colab": {
          "base_uri": "https://localhost:8080/"
        },
        "id": "2Xaq-Jis3KV_",
        "outputId": "684c5ea9-462d-4ff2-e0fc-6d894d8db7c6"
      },
      "execution_count": 15,
      "outputs": [
        {
          "output_type": "stream",
          "name": "stdout",
          "text": [
            "First five characters:  Pytho\n",
            "Last five characters:  mming\n",
            "tnrrm\n"
          ]
        }
      ]
    },
    {
      "cell_type": "markdown",
      "source": [
        "string formatting"
      ],
      "metadata": {
        "id": "EgEoFQ1J4I4P"
      }
    },
    {
      "cell_type": "code",
      "source": [
        "str1=\"Alice\"\n",
        "age=30\n",
        "height=5.6\n",
        "formatted_str=\"His Name is {}. he is {} year old, and {:.2f} of height.\".format(str1,age,height) # :.2f will print 2 decimal places\n",
        "print(formatted_str)"
      ],
      "metadata": {
        "colab": {
          "base_uri": "https://localhost:8080/"
        },
        "id": "IO6hfpNW3_j9",
        "outputId": "42e1669f-e0c6-4f18-c21e-707d492620ff"
      },
      "execution_count": 17,
      "outputs": [
        {
          "output_type": "stream",
          "name": "stdout",
          "text": [
            "His Name is Alice. he is 30 year old, and 5.60 of height.\n"
          ]
        }
      ]
    },
    {
      "cell_type": "code",
      "source": [
        "import re\n",
        "w=\"this is a string\"\n",
        "print(w.upper()) #print in uppercase\n",
        "print(w.lower()) # print in lower case\n",
        "print(w.replace(\"a\", \"another\")) # print after replace a to another\n",
        "print(w.split()) # split the string in list and print\n",
        "print(w.startswith(\"t\")) # print True if string starts with provided string or char\n",
        "print(w.endswith(\"g\")) #print True if string ends with provided string or char\n",
        "print(w.isalpha()) #print True if string is only alphabatic no whitespaces, num etc..\n",
        "print(w.isspace()) #print True if String is Only contain white space\n",
        "print(w.isnumeric())# print True if String is only Numeric\n",
        "print(w.find(\"is\"))# print the index number where it find the provided string or char\n",
        "print(w.count(\"is\"))# print the counted number of provided string\n",
        "print(w.isalnum)# print True if string is alphanumaric"
      ],
      "metadata": {
        "colab": {
          "base_uri": "https://localhost:8080/"
        },
        "id": "0OAlpjqb5V3J",
        "outputId": "61a3a536-1f53-4ba7-e7ca-819205f9bff3"
      },
      "execution_count": 29,
      "outputs": [
        {
          "output_type": "stream",
          "name": "stdout",
          "text": [
            "THIS IS A STRING\n",
            "this is a string\n",
            "this is another string\n",
            "['this', 'is', 'a', 'string']\n",
            "True\n",
            "True\n",
            "False\n",
            "False\n",
            "False\n",
            "2\n",
            "2\n",
            "<built-in method isalnum of str object at 0x7ac94613e830>\n"
          ]
        }
      ]
    }
  ]
}